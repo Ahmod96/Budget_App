{
 "cells": [
  {
   "cell_type": "code",
   "execution_count": 1,
   "id": "89e6f1e4",
   "metadata": {},
   "outputs": [],
   "source": [
    "class Category:\n",
    "    def __init__ (self, category):\n",
    "        self.category = category\n",
    "        self.ledger = []\n",
    "        \n",
    "    def deposit(self, amount, description =' '):\n",
    "        self.ledger.append({'amount':amount, 'description': description})\n",
    "        \n",
    "    def check_funds(self, amount):\n",
    "        deposit = 0\n",
    "        for item in self.ledger:\n",
    "            if item['amount'] > 0:\n",
    "                deposit = deposit + item['amount'] \n",
    "        withdraw = 0\n",
    "        for item in self.ledger:\n",
    "            if item['amount'] < 0:\n",
    "                withdraw = withdraw + item['amount']*-1 \n",
    "        balance = deposit - withdraw\n",
    "        if balance >= amount:\n",
    "            return True\n",
    "        else:\n",
    "            return False\n",
    "        \n",
    "    def withdraw(self, amount, description =' '):\n",
    "        if self.check_funds(amount) == True:\n",
    "            self.ledger.append({'amount':amount*-1, 'description': description})\n",
    "            return True\n",
    "        else:\n",
    "            return False\n",
    "        \n",
    "    def get_balance(self):\n",
    "        deposit = 0\n",
    "        for item in self.ledger:\n",
    "            if item['amount'] > 0:\n",
    "                deposit = deposit + item['amount'] \n",
    "        withdraw = 0\n",
    "        for item in self.ledger:\n",
    "            if item['amount'] < 0:\n",
    "                withdraw = withdraw + item['amount']*-1\n",
    "        balance = deposit - withdraw\n",
    "        return balance\n",
    "    \n",
    "    def transfer(self, amount, Category):\n",
    "        if self.check_funds(amount) == True:\n",
    "            self.ledger.append({\n",
    "                'amount':amount*-1, 'description': \"Transfer to {}\".format(Category.category)})\n",
    "            Category.ledger.append({\n",
    "                'amount':amount, 'description': \"Transfer from {}\".format(self.category)})\n",
    "            return True\n",
    "        else:\n",
    "            return False\n",
    "        \n",
    "    def __str__(self):\n",
    "        right_star = (30-len(self.category))//2\n",
    "        mid_value = len(self.category)\n",
    "        left_star = 30 - (right_star + mid_value)\n",
    "        ledger_comp = ''\n",
    "        for item in self.ledger:\n",
    "            len_des = len(item['description'])\n",
    "            amount = item['amount']\n",
    "            amount = float(amount)\n",
    "            amount = '%.2f'%amount\n",
    "            len_amount = len(str(amount))\n",
    "            des_space = 23 - len_des\n",
    "            amount_space = 7 - len_amount \n",
    "            if len_des > 23:\n",
    "                item['description'] = item['description'][:23]\n",
    "            if len_amount > 7:\n",
    "                amount = str(amount)[:4]\n",
    "                amount = float(amount)\n",
    "                amount = '%.2f'%amount   \n",
    "            ledger_comp += item['description'] + ' '*des_space + ' '*amount_space + amount + '\\n'\n",
    "        return (\"{}{}{}\".format('*'*right_star, self.category, '*'*left_star) \n",
    "                + '\\n' + ledger_comp + \"{} {}\".format('Total', self.get_balance()))\n",
    "    \n",
    "    def cash(self):\n",
    "        cash = 0\n",
    "        for item in self.ledger:\n",
    "            if item['amount'] > 0:\n",
    "                cash = cash + item['amount']\n",
    "        return cash\n",
    "    def cat_withdraw(self):\n",
    "        cat_withdraw = 0\n",
    "        for item in self.ledger:\n",
    "            if item['amount'] < 0:\n",
    "                cat_withdraw = cat_withdraw + item['amount']*-1\n",
    "        return cat_withdraw\n",
    "    \n",
    "    \n",
    "def create_spend_chart(categories):\n",
    "    total_withdraw = 0\n",
    "    for category in categories:\n",
    "        total_withdraw = total_withdraw + category.cat_withdraw()\n",
    "        \n",
    "    per_spent_categories = []\n",
    "    for category in categories:\n",
    "        per_spent = int(category.cat_withdraw()/total_withdraw*100)\n",
    "        per_spent_categories.append(per_spent)\n",
    "    percent_div_ten = []\n",
    "    for percent in per_spent_categories:\n",
    "        percent_div_ten.append(percent//10)\n",
    "    \n",
    "    title = 'Percentage spent by category\\n'\n",
    "    \n",
    "    pre_graph = ['']*11\n",
    "    for value in percent_div_ten:\n",
    "        index = 0\n",
    "        while index <= 10:\n",
    "            if index <= value:\n",
    "                pre_graph[index] = pre_graph[index] + 'o' + ' '*2\n",
    "            if index > value:\n",
    "                 pre_graph[index] = pre_graph[index] + ' '*3\n",
    "            index = index + 1\n",
    "    y_axis_label = '100| {}\\n 90| {}\\n 80| {}\\n 70| {}\\n 60| {}\\n 50| {}\\n 40| {}\\n 30| {}\\n 20| {}\\n 10| {}\\n  0| {}'\n",
    "    pre_graph2 = y_axis_label.format(pre_graph[10], pre_graph[9], pre_graph[8], pre_graph[7], pre_graph[6], pre_graph[5], pre_graph[4], pre_graph[3], pre_graph[2], pre_graph[1], pre_graph[0]) \n",
    "    \n",
    "    Category_in_string = []\n",
    "    for Category in categories:\n",
    "        Category_in_string.append(Category.category)\n",
    "        \n",
    "    len_category = []\n",
    "    for Category in Category_in_string:\n",
    "        len_category.append(len(Category))\n",
    "        max_len = max(len_category)\n",
    "    \n",
    "    pre_x_label = ['']*max_len\n",
    "    for category in Category_in_string:\n",
    "        index1 = 0\n",
    "        while index1 <= max_len - 1:\n",
    "            if index1 < len(category):\n",
    "                pre_x_label[index1] = pre_x_label[index1] + category[index1] + ' '*2\n",
    "            if index1 >= len(category):\n",
    "                pre_x_label[index1] = pre_x_label[index1] + ' '*3   \n",
    "            index1 = index1 + 1\n",
    "    \n",
    "    x_label = ''\n",
    "    index2 = 0\n",
    "    for item in pre_x_label:\n",
    "        x_label = x_label + ' '*5 + pre_x_label[index2] + '\\n'\n",
    "        index2 = index2 + 1\n",
    "    x_label = x_label.rstrip()\n",
    "    x_label = x_label + '  ' \n",
    "        \n",
    "    graph = title + pre_graph2 + '\\n' + ' '*4  + '-'*(len(categories)*2+len(categories)+1) + '\\n' + x_label\n",
    "    return graph\n",
    "       "
   ]
  },
  {
   "cell_type": "code",
   "execution_count": 2,
   "id": "cfcc8a08",
   "metadata": {
    "scrolled": true
   },
   "outputs": [
    {
     "data": {
      "text/plain": [
       "True"
      ]
     },
     "execution_count": 2,
     "metadata": {},
     "output_type": "execute_result"
    }
   ],
   "source": [
    "Food = Category('Food')\n",
    "Food.deposit(900, 'salary')\n",
    "Food.withdraw(45.67, 'rice')\n",
    "\n",
    "Clothing = Category('Clothing')\n",
    "Clothing.deposit(1560, 'salary')\n",
    "Clothing.withdraw(670, 'rice')\n",
    "\n",
    "Auto = Category('Auto')\n",
    "Auto.deposit(560, 'salary')\n",
    "Auto.withdraw(234, 'rice')"
   ]
  },
  {
   "cell_type": "code",
   "execution_count": 3,
   "id": "18875317",
   "metadata": {
    "scrolled": true
   },
   "outputs": [
    {
     "name": "stdout",
     "output_type": "stream",
     "text": [
      "*************Food*************\n",
      "salary                  900.00\n",
      "rice                    -45.67\n",
      "Total 854.33\n"
     ]
    }
   ],
   "source": [
    "print(Food)"
   ]
  },
  {
   "cell_type": "code",
   "execution_count": 4,
   "id": "b04988d6",
   "metadata": {},
   "outputs": [
    {
     "data": {
      "text/plain": [
       "'Percentage spent by category\\n100|          \\n 90|          \\n 80|          \\n 70|    o     \\n 60|    o     \\n 50|    o     \\n 40|    o     \\n 30|    o     \\n 20|    o  o  \\n 10|    o  o  \\n  0| o  o  o  \\n    ----------\\n     F  C  A  \\n     o  l  u  \\n     o  o  t  \\n     d  t  o  \\n        h     \\n        i     \\n        n     \\n        g  '"
      ]
     },
     "execution_count": 4,
     "metadata": {},
     "output_type": "execute_result"
    }
   ],
   "source": [
    "create_spend_chart([Food, Clothing, Auto])"
   ]
  },
  {
   "cell_type": "code",
   "execution_count": 5,
   "id": "4f895948",
   "metadata": {},
   "outputs": [
    {
     "data": {
      "text/plain": [
       "True"
      ]
     },
     "execution_count": 5,
     "metadata": {},
     "output_type": "execute_result"
    }
   ],
   "source": [
    "Food = Category('Food')\n",
    "Entertainment = Category('Entertainment')\n",
    "Business = Category('Business')\n",
    "\n",
    "Food.deposit(900, \"deposit\")\n",
    "Entertainment.deposit(900, \"deposit\")\n",
    "Business.deposit(900, \"deposit\")\n",
    "Food.withdraw(105.55)\n",
    "Entertainment.withdraw(33.40)\n",
    "Business.withdraw(10.99)"
   ]
  },
  {
   "cell_type": "code",
   "execution_count": 6,
   "id": "ca6c7058",
   "metadata": {},
   "outputs": [
    {
     "name": "stdout",
     "output_type": "stream",
     "text": [
      "********Entertainment*********\n",
      "deposit                 900.00\n",
      "                        -33.40\n",
      "Total 866.6\n"
     ]
    }
   ],
   "source": [
    "print(Entertainment)"
   ]
  },
  {
   "cell_type": "code",
   "execution_count": 9,
   "id": "0fe904fb",
   "metadata": {
    "scrolled": true
   },
   "outputs": [
    {
     "name": "stdout",
     "output_type": "stream",
     "text": [
      "Percentage spent by category\n",
      "100|          \n",
      " 90|          \n",
      " 80|          \n",
      " 70|    o     \n",
      " 60|    o     \n",
      " 50|    o     \n",
      " 40|    o     \n",
      " 30|    o     \n",
      " 20|    o  o  \n",
      " 10|    o  o  \n",
      "  0| o  o  o  \n",
      "    ----------\n",
      "     B  F  E  \n",
      "     u  o  n  \n",
      "     s  o  t  \n",
      "     i  d  e  \n",
      "     n     r  \n",
      "     e     t  \n",
      "     s     a  \n",
      "     s     i  \n",
      "           n  \n",
      "           m  \n",
      "           e  \n",
      "           n  \n",
      "           t\n"
     ]
    }
   ],
   "source": [
    "chart = create_spend_chart([Business, Food, Entertainment])\n",
    "print(chart)"
   ]
  },
  {
   "cell_type": "code",
   "execution_count": null,
   "id": "8728cabd",
   "metadata": {},
   "outputs": [],
   "source": [
    "https://replit.com/@Ahmod/boilerplate-budget-app-5#budget.py"
   ]
  }
 ],
 "metadata": {
  "kernelspec": {
   "display_name": "Python 3 (ipykernel)",
   "language": "python",
   "name": "python3"
  },
  "language_info": {
   "codemirror_mode": {
    "name": "ipython",
    "version": 3
   },
   "file_extension": ".py",
   "mimetype": "text/x-python",
   "name": "python",
   "nbconvert_exporter": "python",
   "pygments_lexer": "ipython3",
   "version": "3.10.4"
  }
 },
 "nbformat": 4,
 "nbformat_minor": 5
}
